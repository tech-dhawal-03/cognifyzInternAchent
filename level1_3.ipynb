{
  "nbformat": 4,
  "nbformat_minor": 0,
  "metadata": {
    "colab": {
      "provenance": [],
      "authorship_tag": "ABX9TyNSnwOspM1lqqcZkD8XhSwy",
      "include_colab_link": true
    },
    "kernelspec": {
      "name": "python3",
      "display_name": "Python 3"
    },
    "language_info": {
      "name": "python"
    }
  },
  "cells": [
    {
      "cell_type": "markdown",
      "metadata": {
        "id": "view-in-github",
        "colab_type": "text"
      },
      "source": [
        "<a href=\"https://colab.research.google.com/github/tech-dhawal-03/cognifyzInternAchent/blob/main/level1_3.ipynb\" target=\"_parent\"><img src=\"https://colab.research.google.com/assets/colab-badge.svg\" alt=\"Open In Colab\"/></a>"
      ]
    },
    {
      "cell_type": "code",
      "execution_count": null,
      "metadata": {
        "id": "tViFlXZ6sqG8"
      },
      "outputs": [],
      "source": [
        "import pandas as pd\n",
        "import plotly.express as px\n",
        "import seaborn as sns\n",
        "import matplotlib.pyplot as plt\n",
        "\n",
        "from google.colab import drive\n",
        "drive.mount('/content/drive')\n",
        "\n",
        "\n",
        "# Load dataset\n",
        "df = pd.read_csv('/content/drive/MyDrive/Dataset .csv')\n",
        "\n",
        "# -------------------------------\n",
        "# 1. Visualize Locations on Map\n",
        "# -------------------------------\n",
        "# Remove rows with missing lat/lon\n",
        "geo_df = df.dropna(subset=[\"Latitude\", \"Longitude\"])\n",
        "\n",
        "fig = px.scatter_geo(geo_df,\n",
        "                     lat=\"Latitude\",\n",
        "                     lon=\"Longitude\",\n",
        "                     color=\"Aggregate rating\",\n",
        "                     hover_name=\"Restaurant Name\",\n",
        "                     scope=\"world\",\n",
        "                     title=\"Restaurant Locations on World Map\",\n",
        "                     color_continuous_scale=\"RdYlGn\")\n",
        "fig.show()\n",
        "\n",
        "# -------------------------------\n",
        "# 2. Distribution Across Cities/Countries\n",
        "# -------------------------------\n",
        "# Restaurants per city\n",
        "city_counts = df['City'].value_counts().head(10)\n",
        "\n",
        "plt.figure(figsize=(10,5))\n",
        "sns.barplot(x=city_counts.values, y=city_counts.index)\n",
        "plt.title(\"Top 10 Cities by Number of Restaurants\")\n",
        "plt.xlabel(\"Number of Restaurants\")\n",
        "plt.ylabel(\"City\")\n",
        "plt.show()\n",
        "\n",
        "# Restaurants per country\n",
        "country_counts = df['Country Code'].value_counts().head(10)\n",
        "\n",
        "plt.figure(figsize=(10,5))\n",
        "sns.barplot(x=country_counts.values, y=country_counts.index)\n",
        "plt.title(\"Top 10 Countries by Number of Restaurants\")\n",
        "plt.xlabel(\"Number of Restaurants\")\n",
        "plt.ylabel(\"Country Code\")\n",
        "plt.show()\n",
        "\n",
        "# -------------------------------\n",
        "# 3. Correlation Between Location and Rating\n",
        "# -------------------------------\n",
        "\n",
        "# Check correlation between lat/lon and rating\n",
        "correlation = geo_df[['Latitude', 'Longitude', 'Aggregate rating']].corr()\n",
        "print(\"\\nCorrelation Matrix:\\n\", correlation)\n",
        "\n",
        "# Heatmap\n",
        "plt.figure(figsize=(6,4))\n",
        "sns.heatmap(correlation, annot=True, cmap='coolwarm')\n",
        "plt.title(\"Correlation between Location and Ratings\")\n",
        "plt.show()\n"
      ]
    },
    {
      "cell_type": "code",
      "execution_count": null,
      "metadata": {
        "id": "rrB_nkHMrDM8"
      },
      "outputs": [],
      "source": []
    }
  ]
}