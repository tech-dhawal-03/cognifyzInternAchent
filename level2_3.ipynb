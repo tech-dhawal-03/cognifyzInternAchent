{
  "nbformat": 4,
  "nbformat_minor": 0,
  "metadata": {
    "colab": {
      "provenance": [],
      "authorship_tag": "ABX9TyOOy1E4LSME074FoEH8RbGO",
      "include_colab_link": true
    },
    "kernelspec": {
      "name": "python3",
      "display_name": "Python 3"
    },
    "language_info": {
      "name": "python"
    }
  },
  "cells": [
    {
      "cell_type": "markdown",
      "metadata": {
        "id": "view-in-github",
        "colab_type": "text"
      },
      "source": [
        "<a href=\"https://colab.research.google.com/github/tech-dhawal-03/cognifyzInternAchent/blob/main/level2_3.ipynb\" target=\"_parent\"><img src=\"https://colab.research.google.com/assets/colab-badge.svg\" alt=\"Open In Colab\"/></a>"
      ]
    },
    {
      "cell_type": "code",
      "execution_count": null,
      "metadata": {
        "colab": {
          "base_uri": "https://localhost:8080/"
        },
        "id": "r_xK07CnxqoM",
        "outputId": "8da82369-8e78-4dad-9a4f-d3405e3cb4e0"
      },
      "outputs": [
        {
          "output_type": "stream",
          "name": "stdout",
          "text": [
            "Mounted at /content/drive\n",
            "          Restaurant Name  Name Length  Address Length  Cuisine Count  \\\n",
            "0        Le Petit Souffle           16              71              3   \n",
            "1        Izakaya Kikufuji           16              67              1   \n",
            "2  Heat - Edsa Shangri-La           22              56              4   \n",
            "3                    Ooma            4              70              2   \n",
            "4             Sambo Kojin           11              64              2   \n",
            "\n",
            "   Has Table Booking  Has Online Delivery  \n",
            "0                  1                    0  \n",
            "1                  1                    0  \n",
            "2                  1                    0  \n",
            "3                  0                    0  \n",
            "4                  1                    0  \n"
          ]
        }
      ],
      "source": [
        "import pandas as pd\n",
        "\n",
        "from google.colab import drive\n",
        "drive.mount('/content/drive')\n",
        "\n",
        "\n",
        "# Load dataset\n",
        "df = pd.read_csv('/content/drive/MyDrive/Dataset .csv')\n",
        "\n",
        "# -------------------------------\n",
        "# 1. Extract New Features\n",
        "# -------------------------------\n",
        "\n",
        "# Length of restaurant name\n",
        "df['Name Length'] = df['Restaurant Name'].astype(str).apply(len)\n",
        "\n",
        "# Length of address\n",
        "df['Address Length'] = df['Address'].astype(str).apply(len)\n",
        "\n",
        "# Number of cuisines offered (assuming comma-separated)\n",
        "df['Cuisine Count'] = df['Cuisines'].astype(str).apply(lambda x: len(x.split(',')) if x.strip() != '' else 0)\n",
        "\n",
        "# -------------------------------\n",
        "# 2. Encode Categorical Variables\n",
        "# -------------------------------\n",
        "\n",
        "# Convert 'Yes'/'No' to 1/0\n",
        "df['Has Table Booking'] = df['Has Table booking'].map({'Yes': 1, 'No': 0})\n",
        "df['Has Online Delivery'] = df['Is delivering now'].map({'Yes': 1, 'No': 0})\n",
        "\n",
        "# Optional: Fill any missing values with 0 (if needed)\n",
        "df[['Has Table Booking', 'Has Online Delivery']] = df[['Has Table Booking', 'Has Online Delivery']].fillna(0)\n",
        "\n",
        "# -------------------------------\n",
        "# 3. Preview New Features\n",
        "# -------------------------------\n",
        "\n",
        "print(df[['Restaurant Name', 'Name Length', 'Address Length', 'Cuisine Count', 'Has Table Booking', 'Has Online Delivery']].head())\n"
      ]
    }
  ]
}