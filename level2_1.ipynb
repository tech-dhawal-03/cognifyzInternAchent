{
  "nbformat": 4,
  "nbformat_minor": 0,
  "metadata": {
    "colab": {
      "provenance": [],
      "authorship_tag": "ABX9TyNH13JkaHWS2X7DkZk3WC4T",
      "include_colab_link": true
    },
    "kernelspec": {
      "name": "python3",
      "display_name": "Python 3"
    },
    "language_info": {
      "name": "python"
    }
  },
  "cells": [
    {
      "cell_type": "markdown",
      "metadata": {
        "id": "view-in-github",
        "colab_type": "text"
      },
      "source": [
        "<a href=\"https://colab.research.google.com/github/tech-dhawal-03/cognifyzInternAchent/blob/main/level2_1.ipynb\" target=\"_parent\"><img src=\"https://colab.research.google.com/assets/colab-badge.svg\" alt=\"Open In Colab\"/></a>"
      ]
    },
    {
      "cell_type": "code",
      "execution_count": null,
      "metadata": {
        "id": "wEZlzvzmt__8"
      },
      "outputs": [],
      "source": [
        "import pandas as pd\n",
        "import seaborn as sns\n",
        "import matplotlib.pyplot as plt\n",
        "\n",
        "from google.colab import drive\n",
        "drive.mount('/content/drive')\n",
        "\n",
        "\n",
        "# Load dataset\n",
        "df = pd.read_csv('/content/drive/MyDrive/Dataset .csv')\n",
        "\n",
        "# -------------------------------\n",
        "# 1. Percentage Offering Table Booking & Online Delivery\n",
        "# -------------------------------\n",
        "booking_percent = df['Has Table booking'].value_counts(normalize=True) * 100\n",
        "delivery_percent = df['Is delivering now'].value_counts(normalize=True) * 100\n",
        "\n",
        "print(\"Table Booking Availability (%):\\n\", booking_percent)\n",
        "print(\"\\nOnline Delivery Availability (%):\\n\", delivery_percent)\n",
        "\n",
        "# Pie charts\n",
        "plt.figure(figsize=(12, 5))\n",
        "\n",
        "plt.subplot(1, 2, 1)\n",
        "booking_percent.plot.pie(autopct='%1.1f%%', colors=['lightgreen', 'lightcoral'])\n",
        "plt.title('Table Booking Availability')\n",
        "plt.ylabel('')\n",
        "\n",
        "plt.subplot(1, 2, 2)\n",
        "delivery_percent.plot.pie(autopct='%1.1f%%', colors=['skyblue', 'orange'])\n",
        "plt.title('Online Delivery Availability')\n",
        "plt.ylabel('')\n",
        "plt.show()\n",
        "\n",
        "# -------------------------------\n",
        "# 2. Compare Ratings: Table Booking vs No Table Booking\n",
        "# -------------------------------\n",
        "plt.figure(figsize=(8,5))\n",
        "sns.boxplot(data=df, x='Has Table booking', y='Aggregate rating')\n",
        "plt.title('Ratings: Table Booking vs No Table Booking')\n",
        "plt.xlabel('Table Booking Available')\n",
        "plt.ylabel('Average Rating')\n",
        "plt.show()\n",
        "\n",
        "avg_rating_booking = df.groupby('Has Table booking')['Aggregate rating'].mean()\n",
        "print(\"\\nAverage Ratings by Table Booking:\\n\", avg_rating_booking)\n",
        "\n",
        "# -------------------------------\n",
        "# 3. Online Delivery by Price Range\n",
        "# -------------------------------\n",
        "plt.figure(figsize=(8,5))\n",
        "sns.countplot(data=df, x='Price range', hue='Is delivering now')\n",
        "plt.title('Online Delivery Across Price Ranges')\n",
        "plt.xlabel('Price Range')\n",
        "plt.ylabel('Number of Restaurants')\n",
        "plt.legend(title='Online Delivery')\n",
        "plt.show()\n",
        "\n",
        "delivery_by_price = pd.crosstab(df['Price range'], df['Is delivering now'], normalize='index') * 100\n",
        "print(\"\\nPercentage of Online Delivery by Price Range:\\n\", delivery_by_price)\n"
      ]
    }
  ]
}